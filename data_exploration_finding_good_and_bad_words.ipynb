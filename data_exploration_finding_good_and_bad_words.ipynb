{
 "cells": [
  {
   "cell_type": "markdown",
   "metadata": {},
   "source": [
    "## Data Exploration\n",
    "We do a hypothesis testing to find 'good' and 'bad' words in the following way (Notice that we have around 80k insincere questions in a data set of 1.3M)\n",
    "* We make 100 samples ($df_1$, $df_2$, ...$df_{100}$), each containing 80k questions chosen at random.\n",
    "\n",
    "\n",
    "* For each word and for each of our samples we find the quotient  \n",
    "$$w_i =\\frac{\\text{number of times the word is in }df_i}{\\text{number of words in }df_i}$$\n",
    "\n",
    "\n",
    "* We make a sample dg with only insincere questions (roughly 80k questions) and for each word we find\n",
    "$$\\hat{w} =\\frac{\\text{number of times the word is in dg}}{\\text{number of words in dg}}$$\n",
    "\n",
    "\n",
    "* At this moment, for each `word` we have $W:=[w_1, w_2, w_3, ..., w_{100}]$ that roughly describes how likely is it that the word appears in a random question, and $\\hat{w}$ that describes how likely it is to find the word in an insincere question.\n",
    "\n",
    "\n",
    "* Notice that if it is the case that our `word` is a 'bad word' we expect it to be more common in the sample $dg$ than in the samples $df_i$, and hence we say that `word` is a `bad word` if $\\hat{w}> quintil_{95}(W)$. Similarly, we say that `word` is a `good word` if $\\hat{w} < quintil_{5}(W)$\n",
    "\n",
    "\n",
    "* At the end of this notebook we provide a data frame with `bad words` and another data frame with `good words` according to the previous definitions.  "
   ]
  },
  {
   "cell_type": "code",
   "execution_count": 1,
   "metadata": {},
   "outputs": [],
   "source": [
    "import pandas as pd\n",
    "import numpy as np\n",
    "from get_good_and_bad_words import get_good_and_bad_words"
   ]
  },
  {
   "cell_type": "code",
   "execution_count": 2,
   "metadata": {},
   "outputs": [],
   "source": [
    "data = pd.read_csv('train_inisincere.csv', index_col='qid')"
   ]
  },
  {
   "cell_type": "code",
   "execution_count": 3,
   "metadata": {},
   "outputs": [],
   "source": [
    "p =data.target.value_counts().plot.bar(title='target')"
   ]
  },
  {
   "cell_type": "code",
   "execution_count": 4,
   "metadata": {},
   "outputs": [],
   "source": [
    "good_words, bad_words = get_good_and_bad_words(data[:100000])"
   ]
  },
  {
   "cell_type": "code",
   "execution_count": 5,
   "metadata": {},
   "outputs": [
    {
     "data": {
      "text/plain": [
       "(728,)"
      ]
     },
     "execution_count": 5,
     "metadata": {},
     "output_type": "execute_result"
    }
   ],
   "source": [
    "good_words.shape"
   ]
  },
  {
   "cell_type": "code",
   "execution_count": 6,
   "metadata": {},
   "outputs": [
    {
     "data": {
      "text/plain": [
       "(2331,)"
      ]
     },
     "execution_count": 6,
     "metadata": {},
     "output_type": "execute_result"
    }
   ],
   "source": [
    "bad_words.shape"
   ]
  },
  {
   "cell_type": "code",
   "execution_count": 7,
   "metadata": {},
   "outputs": [
    {
     "data": {
      "text/plain": [
       "muslims         62.773154\n",
       "liberals        62.098782\n",
       "indians         54.841423\n",
       "blacks          43.280292\n",
       "trump           41.182579\n",
       "women           39.997990\n",
       "men             39.001293\n",
       "americans       38.642570\n",
       "tamils          37.598218\n",
       "jews            36.599325\n",
       "gays            36.262885\n",
       "whites          34.713537\n",
       "hindus          34.361256\n",
       "people          34.221182\n",
       "muslim          32.616544\n",
       "democrats       31.122052\n",
       "ass             31.020095\n",
       "christians      30.423896\n",
       "white           28.345539\n",
       "castration      28.221813\n",
       "castrate        28.168553\n",
       "europeans       28.043078\n",
       "obama           27.503103\n",
       "castrated       25.125905\n",
       "feminists       24.500304\n",
       "racist          24.300176\n",
       "zionist         24.154615\n",
       "gay             23.832707\n",
       "fuck            23.785949\n",
       "atheists        23.544169\n",
       "                  ...    \n",
       "movements        0.058386\n",
       "puts             0.057851\n",
       "exclusively      0.057307\n",
       "touched          0.056808\n",
       "justice          0.056430\n",
       "born             0.054951\n",
       "gangs            0.054843\n",
       "kings            0.054627\n",
       "genes            0.054134\n",
       "writes           0.054109\n",
       "subjective       0.050012\n",
       "deliberately     0.049590\n",
       "owned            0.049140\n",
       "suffering        0.048392\n",
       "warning          0.047658\n",
       "literally        0.045724\n",
       "abusing          0.044168\n",
       "convinced        0.042889\n",
       "veterans         0.042481\n",
       "human            0.039505\n",
       "accepting        0.036686\n",
       "victim           0.026064\n",
       "brothers         0.015111\n",
       "guilt            0.009486\n",
       "baba             0.007483\n",
       "abraham          0.007470\n",
       "scandinavian     0.003277\n",
       "pit              0.003220\n",
       "died             0.001956\n",
       "alexander        0.000683\n",
       "Length: 2331, dtype: float64"
      ]
     },
     "execution_count": 7,
     "metadata": {},
     "output_type": "execute_result"
    }
   ],
   "source": [
    "bad_words.sort_values(ascending=False)"
   ]
  },
  {
   "cell_type": "code",
   "execution_count": 8,
   "metadata": {},
   "outputs": [
    {
     "data": {
      "text/plain": [
       "best           16.504913\n",
       "engineering     6.120025\n",
       "good            6.077184\n",
       "get             5.991973\n",
       "someone         5.502169\n",
       "online          5.392302\n",
       "learn           5.208268\n",
       "company         5.136617\n",
       "job             4.929741\n",
       "work            4.927568\n",
       "difference      4.779182\n",
       "life            4.733262\n",
       "possible        4.668606\n",
       "business        4.525309\n",
       "science         4.434187\n",
       "computer        4.362626\n",
       "use             4.300982\n",
       "study           4.298061\n",
       "experience      4.221857\n",
       "books           4.217862\n",
       "career          4.162890\n",
       "start           4.131409\n",
       "college         4.057600\n",
       "student         4.008607\n",
       "data            3.908517\n",
       "tips            3.860390\n",
       "app             3.838421\n",
       "way             3.788955\n",
       "exam            3.745628\n",
       "time            3.739640\n",
       "                 ...    \n",
       "amount          0.114707\n",
       "getting         0.113983\n",
       "details         0.111854\n",
       "various         0.101674\n",
       "happened        0.100446\n",
       "channel         0.099802\n",
       "differ          0.099508\n",
       "driving         0.098794\n",
       "topic           0.098295\n",
       "london          0.093244\n",
       "eyes            0.091595\n",
       "concept         0.090708\n",
       "idea            0.090639\n",
       "approach        0.090404\n",
       "likes           0.090335\n",
       "easier          0.088910\n",
       "event           0.088753\n",
       "environment     0.083471\n",
       "suggest         0.080768\n",
       "internet        0.077418\n",
       "open            0.070655\n",
       "benefit         0.069760\n",
       "individual      0.067845\n",
       "cut             0.060748\n",
       "highest         0.059434\n",
       "personality     0.057292\n",
       "master          0.047581\n",
       "might           0.027745\n",
       "videos          0.022290\n",
       "kind            0.015028\n",
       "Length: 728, dtype: float64"
      ]
     },
     "execution_count": 8,
     "metadata": {},
     "output_type": "execute_result"
    }
   ],
   "source": [
    "good_words.sort_values(ascending=False)"
   ]
  },
  {
   "cell_type": "code",
   "execution_count": null,
   "metadata": {},
   "outputs": [],
   "source": []
  }
 ],
 "metadata": {
  "kernelspec": {
   "display_name": "Python 2",
   "language": "python",
   "name": "python2"
  },
  "language_info": {
   "codemirror_mode": {
    "name": "ipython",
    "version": 2
   },
   "file_extension": ".py",
   "mimetype": "text/x-python",
   "name": "python",
   "nbconvert_exporter": "python",
   "pygments_lexer": "ipython2",
   "version": "2.7.15"
  }
 },
 "nbformat": 4,
 "nbformat_minor": 2
}
