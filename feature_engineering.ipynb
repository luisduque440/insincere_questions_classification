{
 "cells": [
  {
   "cell_type": "code",
   "execution_count": 1,
   "metadata": {},
   "outputs": [],
   "source": [
    "import pandas as pd\n",
    "import numpy as np\n",
    "import gensim\n",
    "from sklearn.model_selection import train_test_split\n",
    "from get_good_and_bad_words import get_good_and_bad_words"
   ]
  },
  {
   "cell_type": "code",
   "execution_count": 2,
   "metadata": {},
   "outputs": [
    {
     "name": "stdout",
     "output_type": "stream",
     "text": [
      "[nltk_data] Downloading package punkt to /Users/lduque/nltk_data...\n",
      "[nltk_data]   Package punkt is already up-to-date!\n"
     ]
    }
   ],
   "source": [
    "from pipeline_utilities_insincere_questions import *\n",
    "model = gensim.models.KeyedVectors.load_word2vec_format('data/GoogleNews-vectors-negative300.bin.gz', binary=True)\n",
    "norm_model = gensim.models.KeyedVectors.load_word2vec_format('data/GoogleNews-vectors-negative300.bin.gz', binary=True)\n",
    "norm_model.init_sims(replace=True)"
   ]
  },
  {
   "cell_type": "code",
   "execution_count": 3,
   "metadata": {},
   "outputs": [],
   "source": [
    "data = pd.read_csv('train_inisincere.csv', index_col='qid')\n",
    "X_test = pd.read_csv('test_insincere.csv', index_col='qid')\n",
    "X = data[['question_text']]\n",
    "y = data.target\n",
    "X_train, X_dictionary, y_train, y_dictionary = train_test_split(X, y, test_size=0.2, random_state=42)\n",
    "data_dictionary =  pd.concat([X_dictionary, y_dictionary], axis=1)"
   ]
  },
  {
   "cell_type": "code",
   "execution_count": 4,
   "metadata": {},
   "outputs": [
    {
     "name": "stdout",
     "output_type": "stream",
     "text": [
      "CPU times: user 4min 55s, sys: 3.91 s, total: 4min 59s\n",
      "Wall time: 5min 1s\n"
     ]
    }
   ],
   "source": [
    "%%time\n",
    "good_words, bad_words = get_good_and_bad_words(data_dictionary)\n",
    "bad_words = list(bad_words.sort_values(ascending=False).index)\n",
    "good_words = list(good_words.sort_values(ascending=False).index)\n",
    "\n",
    "size_sublists = 300\n",
    "chunk_bad_words = [bad_words[x:x+size_sublists] for x in xrange(0, len(bad_words), size_sublists)]\n",
    "chunk_good_words = [good_words[x:x+size_sublists] for x in xrange(0, len(good_words), size_sublists)]\n",
    "worst_sentence = ' '.join(chunk_bad_words[0])\n",
    "best_sentence = ' '.join(chunk_good_words[0])"
   ]
  },
  {
   "cell_type": "code",
   "execution_count": 5,
   "metadata": {},
   "outputs": [
    {
     "name": "stdout",
     "output_type": "stream",
     "text": [
      "muslims liberals democrats women trump white americans indians men castrated people shithole christians castrate brainwashed whites obama hindus hillary racist muslim gay jews feminists black hate blacks supporters conservatives atheists bhakts liberal rape fuck republicans girls damn asians realize sex leftists stupid donald pakistanis enslaved clinton rapists palestinians chinese raping raped indian terrorists gays superior stereotyped incest gujaratis mullahs israel idiots modi islam israelis castrating quora homosexuals europeans racists ignorant dumb shit president lynched fucking believe america tamilians holocaust jewish depraved asian slaughtering kannadigas american shabbat zealanders guys crimes males illegals wives violent brahmins assholes pakistani dick homosexuality implying africans racism democrat guns bullshit jew terrorist kill deny islamist hypocritical xenophobic immigrants hypocrites zionism sister islamic true muhajirs islamization minorities homosexual tamils fact boys ass ugly arabs hindu dalits bitch southerners brutality race husbands african serbs rapist bjp democratic murdering atheism castration murderers christian crappy pussy rapes children many troll god religion destroy mohajirs snobby hitlers coon chutiya penis obsessed crap biased clintons objectified slavs dont russians woman congress voters sexist vote seem british destroying privilege killing hitler outrage sikhs mccabe asshole benghazi majority genocide turks fucked israeli blame transgender since ashamed goons cousin germans terrorism country claim supremacists western lies religious mom mueller imprison collusion hypocrisy whiter respect murdered sexual progressives races marry homemakers israelite creampie gentiles illiterate palestinian cowards party barack morons moderators zionist sucking sjws us whores rights isis losers think bosniaks arrogant questions accuse deserve proud feminist north bengalis defend idiotic lgbt filipinos childish liars slavery nazis mexicans fyrom russian poor bunch lesbians nra inferior rohingya streets reparations propaganda victims fake shootings hatred indonesians incapable pakistan man convicts fatwa criticizes unwelcome filipina allahu suck femdom stepdaughter oust needless seducing offended skeptics motherland republican inundating gun trolls slaves steal extremists moderation daughter bestiality zionists pelosi brits brandeis\n"
     ]
    }
   ],
   "source": [
    "print worst_sentence"
   ]
  },
  {
   "cell_type": "code",
   "execution_count": 6,
   "metadata": {},
   "outputs": [
    {
     "name": "stdout",
     "output_type": "stream",
     "text": [
      "best get good job difference work someone engineering possible business online use college book company used university life learn exam computer student marks software app career study learning data one course different important jee buy causes engineer find examples school rank prepare way degree start science experience tips ways water books marketing write process design would year major phone website cost affect system music management car android google invest advantages using studying mobile physics students movie visa program iit required value application month product number time main training exams account favorite long energy effective model market salary mean type test apply interview top institute writing download class web admission companies without earn current programming happen investment meaning cbse advice travel colleges field types price improve medical happens card neet space option score series code starting uses youtube bank describe first service laptop role services research apps offer coaching friend song amazon electrical digital cse startup scope technology development network developer light speed effects air recommend minimum area read develop upsc windows skills hyderabad purpose maths summer new pune available better preparation delhi mumbai ex weight project industry options phd future machine depression worth person interesting applying method build english increase function iphone instagram home pressure period drive ssc branch graduate facebook board differences songs visit overcome getting distance gate pursue pros change free stay video tech ms fast characteristics benefits entrance solar websites crush working cons oil international topics whats check known contact economics graduation letter accomplishments subject brand food devices choose days analysis chemical studies reading universities useful temperature play medicine terms engine chennai game text stock officer create finance languages impact specific inspired hours months relationship ever personal tv effect character products anxiety take money transfer thing steps source things vs chances disadvantages sales applications join civil art\n"
     ]
    }
   ],
   "source": [
    "print best_sentence"
   ]
  },
  {
   "cell_type": "code",
   "execution_count": 7,
   "metadata": {},
   "outputs": [],
   "source": [
    "X=[]\n",
    "y=[]\n",
    "data=[]\n",
    "good_words=[]\n",
    "bad_words=[]\n",
    "X_dictionary =[]\n",
    "y_dictionary =[]"
   ]
  },
  {
   "cell_type": "code",
   "execution_count": 8,
   "metadata": {},
   "outputs": [
    {
     "name": "stdout",
     "output_type": "stream",
     "text": [
      "CPU times: user 12min 47s, sys: 11.7 s, total: 12min 58s\n",
      "Wall time: 13min 11s\n"
     ]
    }
   ],
   "source": [
    "%%time\n",
    "m = stringTransformer(colname='question_text', model=model)\n",
    "encoded_strings_train = m.transform(X_train)\n",
    "encoded_strings_test = m.transform(X_test)"
   ]
  },
  {
   "cell_type": "code",
   "execution_count": 9,
   "metadata": {},
   "outputs": [
    {
     "ename": "UnboundLocalError",
     "evalue": "local variable 'embedded_sentence' referenced before assignment",
     "output_type": "error",
     "traceback": [
      "\u001b[0;31m---------------------------------------------------------------------------\u001b[0m",
      "\u001b[0;31mUnboundLocalError\u001b[0m                         Traceback (most recent call last)",
      "\u001b[0;32m<ipython-input-9-cdddc8ef53aa>\u001b[0m in \u001b[0;36m<module>\u001b[0;34m()\u001b[0m\n\u001b[0;32m----> 1\u001b[0;31m \u001b[0mget_ipython\u001b[0m\u001b[0;34m(\u001b[0m\u001b[0;34m)\u001b[0m\u001b[0;34m.\u001b[0m\u001b[0mrun_cell_magic\u001b[0m\u001b[0;34m(\u001b[0m\u001b[0;34mu'time'\u001b[0m\u001b[0;34m,\u001b[0m \u001b[0;34mu''\u001b[0m\u001b[0;34m,\u001b[0m \u001b[0;34mu\"m = stringComparison(col='question_text', sentence=worst_sentence, suffix='_worst', model=model, norm_model=norm_model)\\ncomparison_with_worst_sentence_train = m.transform(X_train)\\ncomparison_with_worst_sentence_test = m.transform(X_test)\"\u001b[0m\u001b[0;34m)\u001b[0m\u001b[0;34m\u001b[0m\u001b[0m\n\u001b[0m",
      "\u001b[0;32m/Users/lduque/anaconda2/lib/python2.7/site-packages/IPython/core/interactiveshell.pyc\u001b[0m in \u001b[0;36mrun_cell_magic\u001b[0;34m(self, magic_name, line, cell)\u001b[0m\n\u001b[1;32m   2115\u001b[0m             \u001b[0mmagic_arg_s\u001b[0m \u001b[0;34m=\u001b[0m \u001b[0mself\u001b[0m\u001b[0;34m.\u001b[0m\u001b[0mvar_expand\u001b[0m\u001b[0;34m(\u001b[0m\u001b[0mline\u001b[0m\u001b[0;34m,\u001b[0m \u001b[0mstack_depth\u001b[0m\u001b[0;34m)\u001b[0m\u001b[0;34m\u001b[0m\u001b[0m\n\u001b[1;32m   2116\u001b[0m             \u001b[0;32mwith\u001b[0m \u001b[0mself\u001b[0m\u001b[0;34m.\u001b[0m\u001b[0mbuiltin_trap\u001b[0m\u001b[0;34m:\u001b[0m\u001b[0;34m\u001b[0m\u001b[0m\n\u001b[0;32m-> 2117\u001b[0;31m                 \u001b[0mresult\u001b[0m \u001b[0;34m=\u001b[0m \u001b[0mfn\u001b[0m\u001b[0;34m(\u001b[0m\u001b[0mmagic_arg_s\u001b[0m\u001b[0;34m,\u001b[0m \u001b[0mcell\u001b[0m\u001b[0;34m)\u001b[0m\u001b[0;34m\u001b[0m\u001b[0m\n\u001b[0m\u001b[1;32m   2118\u001b[0m             \u001b[0;32mreturn\u001b[0m \u001b[0mresult\u001b[0m\u001b[0;34m\u001b[0m\u001b[0m\n\u001b[1;32m   2119\u001b[0m \u001b[0;34m\u001b[0m\u001b[0m\n",
      "\u001b[0;32m<decorator-gen-60>\u001b[0m in \u001b[0;36mtime\u001b[0;34m(self, line, cell, local_ns)\u001b[0m\n",
      "\u001b[0;32m/Users/lduque/anaconda2/lib/python2.7/site-packages/IPython/core/magic.pyc\u001b[0m in \u001b[0;36m<lambda>\u001b[0;34m(f, *a, **k)\u001b[0m\n\u001b[1;32m    186\u001b[0m     \u001b[0;31m# but it's overkill for just that one bit of state.\u001b[0m\u001b[0;34m\u001b[0m\u001b[0;34m\u001b[0m\u001b[0m\n\u001b[1;32m    187\u001b[0m     \u001b[0;32mdef\u001b[0m \u001b[0mmagic_deco\u001b[0m\u001b[0;34m(\u001b[0m\u001b[0marg\u001b[0m\u001b[0;34m)\u001b[0m\u001b[0;34m:\u001b[0m\u001b[0;34m\u001b[0m\u001b[0m\n\u001b[0;32m--> 188\u001b[0;31m         \u001b[0mcall\u001b[0m \u001b[0;34m=\u001b[0m \u001b[0;32mlambda\u001b[0m \u001b[0mf\u001b[0m\u001b[0;34m,\u001b[0m \u001b[0;34m*\u001b[0m\u001b[0ma\u001b[0m\u001b[0;34m,\u001b[0m \u001b[0;34m**\u001b[0m\u001b[0mk\u001b[0m\u001b[0;34m:\u001b[0m \u001b[0mf\u001b[0m\u001b[0;34m(\u001b[0m\u001b[0;34m*\u001b[0m\u001b[0ma\u001b[0m\u001b[0;34m,\u001b[0m \u001b[0;34m**\u001b[0m\u001b[0mk\u001b[0m\u001b[0;34m)\u001b[0m\u001b[0;34m\u001b[0m\u001b[0m\n\u001b[0m\u001b[1;32m    189\u001b[0m \u001b[0;34m\u001b[0m\u001b[0m\n\u001b[1;32m    190\u001b[0m         \u001b[0;32mif\u001b[0m \u001b[0mcallable\u001b[0m\u001b[0;34m(\u001b[0m\u001b[0marg\u001b[0m\u001b[0;34m)\u001b[0m\u001b[0;34m:\u001b[0m\u001b[0;34m\u001b[0m\u001b[0m\n",
      "\u001b[0;32m/Users/lduque/anaconda2/lib/python2.7/site-packages/IPython/core/magics/execution.pyc\u001b[0m in \u001b[0;36mtime\u001b[0;34m(self, line, cell, local_ns)\u001b[0m\n\u001b[1;32m   1191\u001b[0m         \u001b[0;32melse\u001b[0m\u001b[0;34m:\u001b[0m\u001b[0;34m\u001b[0m\u001b[0m\n\u001b[1;32m   1192\u001b[0m             \u001b[0mst\u001b[0m \u001b[0;34m=\u001b[0m \u001b[0mclock2\u001b[0m\u001b[0;34m(\u001b[0m\u001b[0;34m)\u001b[0m\u001b[0;34m\u001b[0m\u001b[0m\n\u001b[0;32m-> 1193\u001b[0;31m             \u001b[0;32mexec\u001b[0m\u001b[0;34m(\u001b[0m\u001b[0mcode\u001b[0m\u001b[0;34m,\u001b[0m \u001b[0mglob\u001b[0m\u001b[0;34m,\u001b[0m \u001b[0mlocal_ns\u001b[0m\u001b[0;34m)\u001b[0m\u001b[0;34m\u001b[0m\u001b[0m\n\u001b[0m\u001b[1;32m   1194\u001b[0m             \u001b[0mend\u001b[0m \u001b[0;34m=\u001b[0m \u001b[0mclock2\u001b[0m\u001b[0;34m(\u001b[0m\u001b[0;34m)\u001b[0m\u001b[0;34m\u001b[0m\u001b[0m\n\u001b[1;32m   1195\u001b[0m             \u001b[0mout\u001b[0m \u001b[0;34m=\u001b[0m \u001b[0mNone\u001b[0m\u001b[0;34m\u001b[0m\u001b[0m\n",
      "\u001b[0;32m<timed exec>\u001b[0m in \u001b[0;36m<module>\u001b[0;34m()\u001b[0m\n",
      "\u001b[0;32m/Users/lduque/Desktop/insincere_questions_classification/pipeline_utilities_insincere_questions.pyc\u001b[0m in \u001b[0;36mtransform\u001b[0;34m(self, X)\u001b[0m\n\u001b[1;32m    102\u001b[0m \u001b[0;34m\u001b[0m\u001b[0m\n\u001b[1;32m    103\u001b[0m         \u001b[0mself\u001b[0m\u001b[0;34m.\u001b[0m\u001b[0mdebbug\u001b[0m \u001b[0;34m=\u001b[0m \u001b[0membedded_strings\u001b[0m\u001b[0;34m\u001b[0m\u001b[0m\n\u001b[0;32m--> 104\u001b[0;31m         \u001b[0mself\u001b[0m\u001b[0;34m.\u001b[0m\u001b[0mdebbug2\u001b[0m \u001b[0;34m=\u001b[0m \u001b[0membedded_sentence\u001b[0m\u001b[0;34m\u001b[0m\u001b[0m\n\u001b[0m\u001b[1;32m    105\u001b[0m \u001b[0;34m\u001b[0m\u001b[0m\n\u001b[1;32m    106\u001b[0m         \u001b[0mdf\u001b[0m \u001b[0;34m=\u001b[0m \u001b[0mpd\u001b[0m\u001b[0;34m.\u001b[0m\u001b[0mDataFrame\u001b[0m\u001b[0;34m(\u001b[0m\u001b[0mindex\u001b[0m \u001b[0;34m=\u001b[0m \u001b[0mX\u001b[0m\u001b[0;34m.\u001b[0m\u001b[0mindex\u001b[0m\u001b[0;34m)\u001b[0m\u001b[0;34m\u001b[0m\u001b[0m\n",
      "\u001b[0;31mUnboundLocalError\u001b[0m: local variable 'embedded_sentence' referenced before assignment"
     ]
    }
   ],
   "source": [
    "%%time\n",
    "m = stringComparison(col='question_text', sentence=worst_sentence, suffix='_worst', model=model, norm_model=norm_model)\n",
    "comparison_with_worst_sentence_train = m.transform(X_train)\n",
    "comparison_with_worst_sentence_test = m.transform(X_test)"
   ]
  },
  {
   "cell_type": "code",
   "execution_count": null,
   "metadata": {},
   "outputs": [],
   "source": [
    "%%time\n",
    "m = stringComparison(col='question_text', sentence=best_sentence, suffix='_best',model=model, norm_model=norm_model)\n",
    "comparison_with_best_sentence_train = m.transform(X_train)\n",
    "comparison_with_best_sentence_test = m.transform(X_test)"
   ]
  },
  {
   "cell_type": "code",
   "execution_count": null,
   "metadata": {},
   "outputs": [],
   "source": [
    "train_features = pd.concat([X_train.question_text, encoded_strings_train, comparison_with_worst_sentence_train, comparison_with_best_sentence_train], axis=1)\n",
    "test_features = pd.concat([X_test.question_text, encoded_strings_test, comparison_with_worst_sentence_test, comparison_with_best_sentence_test], axis=1)"
   ]
  },
  {
   "cell_type": "code",
   "execution_count": null,
   "metadata": {},
   "outputs": [],
   "source": [
    "train_features.to_csv(\"train_features.csv\")\n",
    "test_features.to_csv(\"test_features.csv\")"
   ]
  }
 ],
 "metadata": {
  "kernelspec": {
   "display_name": "Python 2",
   "language": "python",
   "name": "python2"
  },
  "language_info": {
   "codemirror_mode": {
    "name": "ipython",
    "version": 2
   },
   "file_extension": ".py",
   "mimetype": "text/x-python",
   "name": "python",
   "nbconvert_exporter": "python",
   "pygments_lexer": "ipython2",
   "version": "2.7.15"
  }
 },
 "nbformat": 4,
 "nbformat_minor": 2
}
